{
 "cells": [
  {
   "cell_type": "markdown",
   "id": "80b26940",
   "metadata": {},
   "source": [
    "## 下载iflytek数据"
   ]
  },
  {
   "cell_type": "code",
   "execution_count": 1,
   "id": "b975627c",
   "metadata": {
    "ExecuteTime": {
     "end_time": "2021-09-06T10:08:19.593623Z",
     "start_time": "2021-09-06T10:08:18.424202Z"
    }
   },
   "outputs": [
    {
     "data": {
      "text/plain": [
       "0"
      ]
     },
     "execution_count": 1,
     "metadata": {},
     "output_type": "execute_result"
    }
   ],
   "source": [
    "import os\n",
    "os.system(\"wget https://storage.googleapis.com/cluebenchmark/tasks/iflytek_public.zip && \\\n",
    "  unzip iflytek_public.zip && \\\n",
    "  rm iflytek_public.zip\")"
   ]
  },
  {
   "cell_type": "code",
   "execution_count": 2,
   "id": "c628c166",
   "metadata": {
    "ExecuteTime": {
     "end_time": "2021-09-06T10:08:24.541482Z",
     "start_time": "2021-09-06T10:08:24.474253Z"
    }
   },
   "outputs": [
    {
     "data": {
      "text/plain": [
       "12133"
      ]
     },
     "execution_count": 2,
     "metadata": {},
     "output_type": "execute_result"
    }
   ],
   "source": [
    "import json\n",
    "records = []\n",
    "with open('train.json', 'r') as f:\n",
    "    for line in f.readlines():\n",
    "        records.append(json.loads(line))\n",
    "len(records)"
   ]
  },
  {
   "cell_type": "code",
   "execution_count": 3,
   "id": "6af29695",
   "metadata": {
    "ExecuteTime": {
     "end_time": "2021-09-06T10:08:29.622340Z",
     "start_time": "2021-09-06T10:08:29.385640Z"
    }
   },
   "outputs": [
    {
     "name": "stdout",
     "output_type": "stream",
     "text": [
      "原iflytek条数12133, 去重后条数11425, 重复条数708\n"
     ]
    }
   ],
   "source": [
    "import pandas as pd\n",
    "df = pd.DataFrame(records)\n",
    "total_num, set_num = len(df), len(df['sentence'].drop_duplicates())\n",
    "duplicate_num = total_num - set_num\n",
    "print(f'原iflytek条数{total_num}, 去重后条数{set_num}, 重复条数{duplicate_num}')"
   ]
  },
  {
   "cell_type": "code",
   "execution_count": 4,
   "id": "b62ecc7f",
   "metadata": {
    "ExecuteTime": {
     "end_time": "2021-09-06T10:08:38.315557Z",
     "start_time": "2021-09-06T10:08:33.150685Z"
    }
   },
   "outputs": [
    {
     "name": "stdout",
     "output_type": "stream",
     "text": [
      "语料重复且不一致的条数356\n"
     ]
    }
   ],
   "source": [
    "diff_duplicate_num = 0\n",
    "new_df = pd.DataFrame()\n",
    "for sentence, sub_df in df.groupby('sentence'):\n",
    "    if len(sub_df) > 1:\n",
    "        diffs = len(set(sub_df['label'].tolist()))\n",
    "        if diffs > 1:\n",
    "            diff_duplicate_num += diffs - 1\n",
    "        else:\n",
    "            new_df = new_df.append(sub_df.iloc[0:1, :])\n",
    "    else:\n",
    "        new_df = new_df.append(sub_df)\n",
    "new_df = new_df.sort_index().reset_index(drop=True)\n",
    "print(f'语料重复且不一致的条数{diff_duplicate_num}')"
   ]
  },
  {
   "cell_type": "code",
   "execution_count": 5,
   "id": "ce265e20",
   "metadata": {
    "ExecuteTime": {
     "end_time": "2021-09-06T10:08:41.573778Z",
     "start_time": "2021-09-06T10:08:41.567458Z"
    }
   },
   "outputs": [
    {
     "name": "stdout",
     "output_type": "stream",
     "text": [
      "新iflytek条数：11084\n"
     ]
    }
   ],
   "source": [
    "print('新iflytek条数：' + str(len(new_df)))"
   ]
  },
  {
   "cell_type": "code",
   "execution_count": 6,
   "id": "14d6fdce",
   "metadata": {
    "ExecuteTime": {
     "end_time": "2021-09-06T10:08:53.263972Z",
     "start_time": "2021-09-06T10:08:53.131647Z"
    }
   },
   "outputs": [],
   "source": [
    "with open(\"fixed_train.json\", \"w\") as f:\n",
    "    for record in new_df.to_dict(orient='records'):\n",
    "        f.write(json.dumps(record,ensure_ascii=False) + '\\n')"
   ]
  },
  {
   "cell_type": "markdown",
   "id": "75292c5e",
   "metadata": {},
   "source": [
    "## 用CLUE原始脚本跑评测\n",
    "\n",
    "+ ./CLUE/baselines/models_pytorch/classifier_pytorch/run_classifier_iflytek.sh\n",
    "\n",
    "+ 原训练数据集\n",
    "    验证集dev: acc = 0.5986918045402078\n",
    "+ 新训练数据集\n",
    "    验证集dev: acc = 0.596383224317045\n",
    "## 结论\n",
    "+ 指标下降了0.0023"
   ]
  }
 ],
 "metadata": {
  "kernelspec": {
   "display_name": "Python 3",
   "language": "python",
   "name": "python3"
  },
  "language_info": {
   "codemirror_mode": {
    "name": "ipython",
    "version": 3
   },
   "file_extension": ".py",
   "mimetype": "text/x-python",
   "name": "python",
   "nbconvert_exporter": "python",
   "pygments_lexer": "ipython3",
   "version": "3.8.10"
  }
 },
 "nbformat": 4,
 "nbformat_minor": 5
}
